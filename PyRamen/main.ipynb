{
 "cells": [
  {
   "cell_type": "code",
   "execution_count": 9,
   "metadata": {},
   "outputs": [],
   "source": [
    "import csv\n",
    "from pathlib import Path"
   ]
  },
  {
   "cell_type": "code",
   "execution_count": 10,
   "metadata": {},
   "outputs": [],
   "source": [
    "menu_filepath = Path('./Resources/menu_data.csv')\n",
    "sales_filepath = Path('./Resources/sales_data.csv')"
   ]
  },
  {
   "cell_type": "code",
   "execution_count": 11,
   "metadata": {},
   "outputs": [],
   "source": [
    "menu_data=[] #initialize menu data list (will be list of dicts)\n",
    "line_num=0 #initialize line int\n",
    "# Open the input path as a file object\n",
    "with open(menu_filepath, 'r') as menu_file:\n",
    "\n",
    "    # Pass in the csv file to the csv.reader() function\n",
    "    # (with ',' as the delmiter/separator) and return the csvreader object\n",
    "    csvreader = csv.reader(menu_file, delimiter=',')\n",
    "\n",
    "    # Go to the next row from the start of the file\n",
    "    # (which is often the first row/header) and iterate line_num by 1\n",
    "    header = next(csvreader)\n",
    "    line_num += 1\n",
    "    # Print the header\n",
    "    #print(f\"{header} <---- HEADER\")\n",
    "\n",
    "    # Read each row of data after the header\n",
    "    for row in csvreader:\n",
    "        line={} #initialize the item dict\n",
    "        # Print the row\n",
    "        #print(row)\n",
    "        line['item']=row[0]\n",
    "        line['category']=row[1]\n",
    "        line['description']=row[2]\n",
    "        line['price']=row[3]\n",
    "        line['cost']=row[4]\n",
    "        menu_data.append(line)\n",
    "\n",
    "\n",
    "sales_data=[] #initialize sales data list (will be list of dicts)\n",
    "line_num=0 #initialize line int\n",
    "# Open the input path as a file object\n",
    "with open(sales_filepath, 'r') as sales_file:\n",
    "\n",
    "    # Pass in the csv file to the csv.reader() function\n",
    "    # (with ',' as the delmiter/separator) and return the csvreader object\n",
    "    csvreader = csv.reader(sales_file, delimiter=',')\n",
    "\n",
    "    # Go to the next row from the start of the file\n",
    "    # (which is often the first row/header) and iterate line_num by 1\n",
    "    header = next(csvreader)\n",
    "    line_num += 1\n",
    "    # Print the header\n",
    "    #print(f\"{header} <---- HEADER\")\n",
    "\n",
    "    # Read each row of data after the header\n",
    "    for row in csvreader:\n",
    "        line={} #initialize the item dict\n",
    "        # Print the row\n",
    "        #print(row)\n",
    "        #reading data from row \n",
    "        line['Line_Item_ID']=row[0]\n",
    "        line['Date']=row[1]\n",
    "        line['Credit_Card_Number']=row[2]\n",
    "        line['Quantity']=row[3]\n",
    "        line['Menu_Item']=row[4]\n",
    "        sales_data.append(line) #added row to sales data list"
   ]
  },
  {
   "cell_type": "code",
   "execution_count": 12,
   "metadata": {},
   "outputs": [
    {
     "name": "stdout",
     "output_type": "stream",
     "text": [
      "74124\n"
     ]
    }
   ],
   "source": [
    "#Initialize dict object to hold our key-value pairs of items and metrics\n",
    "report = {}\n",
    "\n",
    "# Initialize a row counter variable\n",
    "row_count = 0\n",
    "\n",
    "# Loop over every row in the sales list object\n",
    "for each_sale in sales_data:\n",
    "    Quantity = int(each_sale['Quantity']) #grab quantity as int\n",
    "    Menu_Item = each_sale['Menu_Item'] #grab menu item name\n",
    "    row_count += 1 # counting rows in sales data\n",
    "    if Menu_Item not in report: # check if the his menu item in report yet, if not, initialize\n",
    "        report[Menu_Item]={\n",
    "            \"01-count\":0,\n",
    "            \"02-revenue\":0,\n",
    "            \"03-cogs\":0,\n",
    "            \"04-profit\":0\n",
    "        }\n",
    "    for each_menu_item in menu_data: # iterate over the menu \n",
    "        Item = each_menu_item['item'] #pull menu item name\n",
    "        Price = float(each_menu_item['price']) #pull menu item price\n",
    "        Cost = float(each_menu_item['cost']) #pull menu item cost\n",
    "        Profit = float(Price)-float(Cost) #calculate menu item profit\n",
    "        if Menu_Item == Item:\n",
    "            report[Menu_Item][\"01-count\"] += Quantity # calculate item Quantity\n",
    "            report[Menu_Item][\"02-revenue\"] += Price * Quantity # calculate item Revenue\n",
    "            report[Menu_Item][\"03-cogs\"] += Cost * Quantity # calculate item Cost of Goods Sold\n",
    "            report[Menu_Item][\"04-profit\"] += Profit * Quantity #calculate item Profit\n",
    "        #else:\n",
    "            #print(Menu_Item,\" does not equal \",Item) #report mismatches\n",
    "print(row_count) #print total count of sales data rows\n",
    "    "
   ]
  },
  {
   "cell_type": "code",
   "execution_count": 13,
   "metadata": {},
   "outputs": [],
   "source": [
    "# Set the output file path\n",
    "output_path = Path(\"output.txt\")\n",
    "\n",
    "# Open the output_path as a file object in \"write\" mode ('w')\n",
    "# Write a header line and write the contents of 'text' to the file\n",
    "with open(output_path, 'w') as file:\n",
    "    for each_item in report:\n",
    "        output_string=each_item+\" \"+str(report[each_item])+\"\\n\"\n",
    "        file.write(output_string)"
   ]
  }
 ],
 "metadata": {
  "kernelspec": {
   "display_name": "base",
   "language": "python",
   "name": "python3"
  },
  "language_info": {
   "codemirror_mode": {
    "name": "ipython",
    "version": 3
   },
   "file_extension": ".py",
   "mimetype": "text/x-python",
   "name": "python",
   "nbconvert_exporter": "python",
   "pygments_lexer": "ipython3",
   "version": "3.11.5"
  },
  "orig_nbformat": 4
 },
 "nbformat": 4,
 "nbformat_minor": 2
}
